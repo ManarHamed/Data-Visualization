{
 "cells": [
  {
   "cell_type": "markdown",
   "id": "7a93a2ad",
   "metadata": {
    "papermill": {
     "duration": 0.011348,
     "end_time": "2022-07-09T12:37:54.721962",
     "exception": false,
     "start_time": "2022-07-09T12:37:54.710614",
     "status": "completed"
    },
    "tags": []
   },
   "source": [
    "**This notebook is an exercise in the [Data Visualization](https://www.kaggle.com/learn/data-visualization) course.  You can reference the tutorial at [this link](https://www.kaggle.com/alexisbcook/scatter-plots).**\n",
    "\n",
    "---\n"
   ]
  },
  {
   "cell_type": "markdown",
   "id": "d44ac461",
   "metadata": {
    "papermill": {
     "duration": 0.009965,
     "end_time": "2022-07-09T12:37:54.742510",
     "exception": false,
     "start_time": "2022-07-09T12:37:54.732545",
     "status": "completed"
    },
    "tags": []
   },
   "source": [
    "In this exercise, you will use your new knowledge to propose a solution to a real-world scenario.  To succeed, you will need to import data into Python, answer questions using the data, and generate **scatter plots** to understand patterns in the data.\n",
    "\n",
    "## Scenario\n",
    "\n",
    "You work for a major candy producer, and your goal is to write a report that your company can use to guide the design of its next product.  Soon after starting your research, you stumble across this [very interesting dataset](https://fivethirtyeight.com/features/the-ultimate-halloween-candy-power-ranking/) containing results from a fun survey to crowdsource favorite candies.\n",
    "\n",
    "## Setup\n",
    "\n",
    "Run the next cell to import and configure the Python libraries that you need to complete the exercise."
   ]
  },
  {
   "cell_type": "code",
   "execution_count": 1,
   "id": "d1b5e933",
   "metadata": {
    "execution": {
     "iopub.execute_input": "2022-07-09T12:37:54.765237Z",
     "iopub.status.busy": "2022-07-09T12:37:54.764743Z",
     "iopub.status.idle": "2022-07-09T12:37:56.010370Z",
     "shell.execute_reply": "2022-07-09T12:37:56.009047Z"
    },
    "papermill": {
     "duration": 1.260616,
     "end_time": "2022-07-09T12:37:56.013399",
     "exception": false,
     "start_time": "2022-07-09T12:37:54.752783",
     "status": "completed"
    },
    "tags": []
   },
   "outputs": [
    {
     "name": "stdout",
     "output_type": "stream",
     "text": [
      "Setup Complete\n"
     ]
    }
   ],
   "source": [
    "import pandas as pd\n",
    "pd.plotting.register_matplotlib_converters()\n",
    "import matplotlib.pyplot as plt\n",
    "%matplotlib inline\n",
    "import seaborn as sns\n",
    "print(\"Setup Complete\")"
   ]
  },
  {
   "cell_type": "markdown",
   "id": "b9c0f021",
   "metadata": {
    "papermill": {
     "duration": 0.01013,
     "end_time": "2022-07-09T12:37:56.034444",
     "exception": false,
     "start_time": "2022-07-09T12:37:56.024314",
     "status": "completed"
    },
    "tags": []
   },
   "source": [
    "The questions below will give you feedback on your work. Run the following cell to set up our feedback system."
   ]
  },
  {
   "cell_type": "code",
   "execution_count": 2,
   "id": "bbc486a8",
   "metadata": {
    "execution": {
     "iopub.execute_input": "2022-07-09T12:37:56.057109Z",
     "iopub.status.busy": "2022-07-09T12:37:56.056642Z",
     "iopub.status.idle": "2022-07-09T12:37:56.126375Z",
     "shell.execute_reply": "2022-07-09T12:37:56.125361Z"
    },
    "papermill": {
     "duration": 0.083727,
     "end_time": "2022-07-09T12:37:56.128610",
     "exception": false,
     "start_time": "2022-07-09T12:37:56.044883",
     "status": "completed"
    },
    "tags": []
   },
   "outputs": [
    {
     "name": "stdout",
     "output_type": "stream",
     "text": [
      "Setup Complete\n"
     ]
    }
   ],
   "source": [
    "# Set up code checking\n",
    "import os\n",
    "if not os.path.exists(\"../input/candy.csv\"):\n",
    "    os.symlink(\"../input/data-for-datavis/candy.csv\", \"../input/candy.csv\") \n",
    "from learntools.core import binder\n",
    "binder.bind(globals())\n",
    "from learntools.data_viz_to_coder.ex4 import *\n",
    "print(\"Setup Complete\")"
   ]
  },
  {
   "cell_type": "markdown",
   "id": "e3b44743",
   "metadata": {
    "papermill": {
     "duration": 0.010149,
     "end_time": "2022-07-09T12:37:56.149446",
     "exception": false,
     "start_time": "2022-07-09T12:37:56.139297",
     "status": "completed"
    },
    "tags": []
   },
   "source": [
    "## Step 1: Load the Data\n",
    "\n",
    "Read the candy data file into `candy_data`.  Use the `\"id\"` column to label the rows."
   ]
  },
  {
   "cell_type": "code",
   "execution_count": 3,
   "id": "65116aae",
   "metadata": {
    "execution": {
     "iopub.execute_input": "2022-07-09T12:37:56.172485Z",
     "iopub.status.busy": "2022-07-09T12:37:56.171738Z",
     "iopub.status.idle": "2022-07-09T12:37:56.187223Z",
     "shell.execute_reply": "2022-07-09T12:37:56.186296Z"
    },
    "papermill": {
     "duration": 0.029537,
     "end_time": "2022-07-09T12:37:56.189443",
     "exception": false,
     "start_time": "2022-07-09T12:37:56.159906",
     "status": "completed"
    },
    "tags": []
   },
   "outputs": [
    {
     "data": {
      "application/javascript": [
       "parent.postMessage({\"jupyterEvent\": \"custom.exercise_interaction\", \"data\": {\"outcomeType\": 1, \"valueTowardsCompletion\": 0.3333333333333333, \"interactionType\": 1, \"questionType\": 1, \"questionId\": \"1_LoadData\", \"learnToolsVersion\": \"0.3.4\", \"failureMessage\": \"\", \"exceptionClass\": \"\", \"trace\": \"\"}}, \"*\")"
      ],
      "text/plain": [
       "<IPython.core.display.Javascript object>"
      ]
     },
     "metadata": {},
     "output_type": "display_data"
    },
    {
     "data": {
      "text/markdown": [
       "<span style=\"color:#33cc33\">Correct</span>"
      ],
      "text/plain": [
       "Correct"
      ]
     },
     "metadata": {},
     "output_type": "display_data"
    }
   ],
   "source": [
    "# Path of the file to read\n",
    "candy_filepath = \"../input/candy.csv\"\n",
    "\n",
    "# Fill in the line below to read the file into a variable candy_data\n",
    "candy_data = pd.read_csv(candy_filepath, index_col=\"id\")\n",
    "\n",
    "# Run the line below with no changes to check that you've loaded the data correctly\n",
    "step_1.check()"
   ]
  },
  {
   "cell_type": "code",
   "execution_count": 4,
   "id": "e2dbcafc",
   "metadata": {
    "execution": {
     "iopub.execute_input": "2022-07-09T12:37:56.213187Z",
     "iopub.status.busy": "2022-07-09T12:37:56.212457Z",
     "iopub.status.idle": "2022-07-09T12:37:56.216340Z",
     "shell.execute_reply": "2022-07-09T12:37:56.215482Z"
    },
    "papermill": {
     "duration": 0.018082,
     "end_time": "2022-07-09T12:37:56.218381",
     "exception": false,
     "start_time": "2022-07-09T12:37:56.200299",
     "status": "completed"
    },
    "tags": []
   },
   "outputs": [],
   "source": [
    "# Lines below will give you a hint or solution code\n",
    "#step_1.hint()\n",
    "#step_1.solution()"
   ]
  },
  {
   "cell_type": "markdown",
   "id": "19c6d6cf",
   "metadata": {
    "papermill": {
     "duration": 0.010494,
     "end_time": "2022-07-09T12:37:56.240261",
     "exception": false,
     "start_time": "2022-07-09T12:37:56.229767",
     "status": "completed"
    },
    "tags": []
   },
   "source": [
    "## Step 2: Review the data\n",
    "\n",
    "Use a Python command to print the first five rows of the data."
   ]
  },
  {
   "cell_type": "code",
   "execution_count": 5,
   "id": "e19a8071",
   "metadata": {
    "execution": {
     "iopub.execute_input": "2022-07-09T12:37:56.263715Z",
     "iopub.status.busy": "2022-07-09T12:37:56.262979Z",
     "iopub.status.idle": "2022-07-09T12:37:56.285774Z",
     "shell.execute_reply": "2022-07-09T12:37:56.284538Z"
    },
    "papermill": {
     "duration": 0.03719,
     "end_time": "2022-07-09T12:37:56.288173",
     "exception": false,
     "start_time": "2022-07-09T12:37:56.250983",
     "status": "completed"
    },
    "tags": []
   },
   "outputs": [
    {
     "data": {
      "text/html": [
       "<div>\n",
       "<style scoped>\n",
       "    .dataframe tbody tr th:only-of-type {\n",
       "        vertical-align: middle;\n",
       "    }\n",
       "\n",
       "    .dataframe tbody tr th {\n",
       "        vertical-align: top;\n",
       "    }\n",
       "\n",
       "    .dataframe thead th {\n",
       "        text-align: right;\n",
       "    }\n",
       "</style>\n",
       "<table border=\"1\" class=\"dataframe\">\n",
       "  <thead>\n",
       "    <tr style=\"text-align: right;\">\n",
       "      <th></th>\n",
       "      <th>competitorname</th>\n",
       "      <th>chocolate</th>\n",
       "      <th>fruity</th>\n",
       "      <th>caramel</th>\n",
       "      <th>peanutyalmondy</th>\n",
       "      <th>nougat</th>\n",
       "      <th>crispedricewafer</th>\n",
       "      <th>hard</th>\n",
       "      <th>bar</th>\n",
       "      <th>pluribus</th>\n",
       "      <th>sugarpercent</th>\n",
       "      <th>pricepercent</th>\n",
       "      <th>winpercent</th>\n",
       "    </tr>\n",
       "    <tr>\n",
       "      <th>id</th>\n",
       "      <th></th>\n",
       "      <th></th>\n",
       "      <th></th>\n",
       "      <th></th>\n",
       "      <th></th>\n",
       "      <th></th>\n",
       "      <th></th>\n",
       "      <th></th>\n",
       "      <th></th>\n",
       "      <th></th>\n",
       "      <th></th>\n",
       "      <th></th>\n",
       "      <th></th>\n",
       "    </tr>\n",
       "  </thead>\n",
       "  <tbody>\n",
       "    <tr>\n",
       "      <th>0</th>\n",
       "      <td>100 Grand</td>\n",
       "      <td>Yes</td>\n",
       "      <td>No</td>\n",
       "      <td>Yes</td>\n",
       "      <td>No</td>\n",
       "      <td>No</td>\n",
       "      <td>Yes</td>\n",
       "      <td>No</td>\n",
       "      <td>Yes</td>\n",
       "      <td>No</td>\n",
       "      <td>0.732</td>\n",
       "      <td>0.860</td>\n",
       "      <td>66.971725</td>\n",
       "    </tr>\n",
       "    <tr>\n",
       "      <th>1</th>\n",
       "      <td>3 Musketeers</td>\n",
       "      <td>Yes</td>\n",
       "      <td>No</td>\n",
       "      <td>No</td>\n",
       "      <td>No</td>\n",
       "      <td>Yes</td>\n",
       "      <td>No</td>\n",
       "      <td>No</td>\n",
       "      <td>Yes</td>\n",
       "      <td>No</td>\n",
       "      <td>0.604</td>\n",
       "      <td>0.511</td>\n",
       "      <td>67.602936</td>\n",
       "    </tr>\n",
       "    <tr>\n",
       "      <th>2</th>\n",
       "      <td>Air Heads</td>\n",
       "      <td>No</td>\n",
       "      <td>Yes</td>\n",
       "      <td>No</td>\n",
       "      <td>No</td>\n",
       "      <td>No</td>\n",
       "      <td>No</td>\n",
       "      <td>No</td>\n",
       "      <td>No</td>\n",
       "      <td>No</td>\n",
       "      <td>0.906</td>\n",
       "      <td>0.511</td>\n",
       "      <td>52.341465</td>\n",
       "    </tr>\n",
       "    <tr>\n",
       "      <th>3</th>\n",
       "      <td>Almond Joy</td>\n",
       "      <td>Yes</td>\n",
       "      <td>No</td>\n",
       "      <td>No</td>\n",
       "      <td>Yes</td>\n",
       "      <td>No</td>\n",
       "      <td>No</td>\n",
       "      <td>No</td>\n",
       "      <td>Yes</td>\n",
       "      <td>No</td>\n",
       "      <td>0.465</td>\n",
       "      <td>0.767</td>\n",
       "      <td>50.347546</td>\n",
       "    </tr>\n",
       "    <tr>\n",
       "      <th>4</th>\n",
       "      <td>Baby Ruth</td>\n",
       "      <td>Yes</td>\n",
       "      <td>No</td>\n",
       "      <td>Yes</td>\n",
       "      <td>Yes</td>\n",
       "      <td>Yes</td>\n",
       "      <td>No</td>\n",
       "      <td>No</td>\n",
       "      <td>Yes</td>\n",
       "      <td>No</td>\n",
       "      <td>0.604</td>\n",
       "      <td>0.767</td>\n",
       "      <td>56.914547</td>\n",
       "    </tr>\n",
       "  </tbody>\n",
       "</table>\n",
       "</div>"
      ],
      "text/plain": [
       "   competitorname chocolate fruity caramel peanutyalmondy nougat  \\\n",
       "id                                                                 \n",
       "0       100 Grand       Yes     No     Yes             No     No   \n",
       "1    3 Musketeers       Yes     No      No             No    Yes   \n",
       "2       Air Heads        No    Yes      No             No     No   \n",
       "3      Almond Joy       Yes     No      No            Yes     No   \n",
       "4       Baby Ruth       Yes     No     Yes            Yes    Yes   \n",
       "\n",
       "   crispedricewafer hard  bar pluribus  sugarpercent  pricepercent  winpercent  \n",
       "id                                                                              \n",
       "0               Yes   No  Yes       No         0.732         0.860   66.971725  \n",
       "1                No   No  Yes       No         0.604         0.511   67.602936  \n",
       "2                No   No   No       No         0.906         0.511   52.341465  \n",
       "3                No   No  Yes       No         0.465         0.767   50.347546  \n",
       "4                No   No  Yes       No         0.604         0.767   56.914547  "
      ]
     },
     "execution_count": 5,
     "metadata": {},
     "output_type": "execute_result"
    }
   ],
   "source": [
    "# Print the first five rows of the data\n",
    "candy_data.head() # Your code here"
   ]
  },
  {
   "cell_type": "markdown",
   "id": "d754dded",
   "metadata": {
    "papermill": {
     "duration": 0.010382,
     "end_time": "2022-07-09T12:37:56.309572",
     "exception": false,
     "start_time": "2022-07-09T12:37:56.299190",
     "status": "completed"
    },
    "tags": []
   },
   "source": [
    "The dataset contains 83 rows, where each corresponds to a different candy bar.  There are 13 columns:\n",
    "- `'competitorname'` contains the name of the candy bar. \n",
    "- the next **9** columns (from `'chocolate'` to `'pluribus'`) describe the candy.  For instance, rows with chocolate candies have `\"Yes\"` in the `'chocolate'` column (and candies without chocolate have `\"No\"` in the same column).\n",
    "- `'sugarpercent'` provides some indication of the amount of sugar, where higher values signify higher sugar content.\n",
    "- `'pricepercent'` shows the price per unit, relative to the other candies in the dataset.\n",
    "- `'winpercent'` is calculated from the survey results; higher values indicate that the candy was more popular with survey respondents.\n",
    "\n",
    "Use the first five rows of the data to answer the questions below."
   ]
  },
  {
   "cell_type": "code",
   "execution_count": 6,
   "id": "cb8f4e92",
   "metadata": {
    "execution": {
     "iopub.execute_input": "2022-07-09T12:37:56.333603Z",
     "iopub.status.busy": "2022-07-09T12:37:56.332549Z",
     "iopub.status.idle": "2022-07-09T12:37:56.341679Z",
     "shell.execute_reply": "2022-07-09T12:37:56.340964Z"
    },
    "papermill": {
     "duration": 0.02323,
     "end_time": "2022-07-09T12:37:56.343649",
     "exception": false,
     "start_time": "2022-07-09T12:37:56.320419",
     "status": "completed"
    },
    "tags": []
   },
   "outputs": [
    {
     "data": {
      "application/javascript": [
       "parent.postMessage({\"jupyterEvent\": \"custom.exercise_interaction\", \"data\": {\"outcomeType\": 1, \"valueTowardsCompletion\": 0.3333333333333333, \"interactionType\": 1, \"questionType\": 1, \"questionId\": \"2_ReviewData\", \"learnToolsVersion\": \"0.3.4\", \"failureMessage\": \"\", \"exceptionClass\": \"\", \"trace\": \"\"}}, \"*\")"
      ],
      "text/plain": [
       "<IPython.core.display.Javascript object>"
      ]
     },
     "metadata": {},
     "output_type": "display_data"
    },
    {
     "data": {
      "text/markdown": [
       "<span style=\"color:#33cc33\">Correct</span>"
      ],
      "text/plain": [
       "Correct"
      ]
     },
     "metadata": {},
     "output_type": "display_data"
    }
   ],
   "source": [
    "# Fill in the line below: Which candy was more popular with survey respondents:\n",
    "# '3 Musketeers' or 'Almond Joy'?  (Please enclose your answer in single quotes.)\n",
    "more_popular = '3 Musketeers' \n",
    "\n",
    "# Fill in the line below: Which candy has higher sugar content: 'Air Heads'\n",
    "# or 'Baby Ruth'? (Please enclose your answer in single quotes.)\n",
    "more_sugar = 'Air Heads'\n",
    "\n",
    "# Check your answers\n",
    "step_2.check()"
   ]
  },
  {
   "cell_type": "code",
   "execution_count": 7,
   "id": "ce1f2195",
   "metadata": {
    "execution": {
     "iopub.execute_input": "2022-07-09T12:37:56.368134Z",
     "iopub.status.busy": "2022-07-09T12:37:56.367509Z",
     "iopub.status.idle": "2022-07-09T12:37:56.371168Z",
     "shell.execute_reply": "2022-07-09T12:37:56.370323Z"
    },
    "papermill": {
     "duration": 0.018435,
     "end_time": "2022-07-09T12:37:56.373273",
     "exception": false,
     "start_time": "2022-07-09T12:37:56.354838",
     "status": "completed"
    },
    "tags": []
   },
   "outputs": [],
   "source": [
    "# Lines below will give you a hint or solution code\n",
    "#step_2.hint()\n",
    "#step_2.solution()"
   ]
  },
  {
   "cell_type": "markdown",
   "id": "1f888800",
   "metadata": {
    "papermill": {
     "duration": 0.011228,
     "end_time": "2022-07-09T12:37:56.395722",
     "exception": false,
     "start_time": "2022-07-09T12:37:56.384494",
     "status": "completed"
    },
    "tags": []
   },
   "source": [
    "## Step 3: The role of sugar\n",
    "\n",
    "Do people tend to prefer candies with higher sugar content?  \n",
    "\n",
    "#### Part A\n",
    "\n",
    "Create a scatter plot that shows the relationship between `'sugarpercent'` (on the horizontal x-axis) and `'winpercent'` (on the vertical y-axis).  _Don't add a regression line just yet -- you'll do that in the next step!_"
   ]
  },
  {
   "cell_type": "code",
   "execution_count": 8,
   "id": "12b6a035",
   "metadata": {
    "execution": {
     "iopub.execute_input": "2022-07-09T12:37:56.420593Z",
     "iopub.status.busy": "2022-07-09T12:37:56.419918Z",
     "iopub.status.idle": "2022-07-09T12:37:56.670883Z",
     "shell.execute_reply": "2022-07-09T12:37:56.669763Z"
    },
    "papermill": {
     "duration": 0.266916,
     "end_time": "2022-07-09T12:37:56.673883",
     "exception": false,
     "start_time": "2022-07-09T12:37:56.406967",
     "status": "completed"
    },
    "tags": []
   },
   "outputs": [
    {
     "data": {
      "application/javascript": [
       "parent.postMessage({\"jupyterEvent\": \"custom.exercise_interaction\", \"data\": {\"outcomeType\": 1, \"valueTowardsCompletion\": 0.3333333333333333, \"interactionType\": 1, \"questionType\": 2, \"questionId\": \"3.1_PlotBlueScatter\", \"learnToolsVersion\": \"0.3.4\", \"failureMessage\": \"\", \"exceptionClass\": \"\", \"trace\": \"\"}}, \"*\")"
      ],
      "text/plain": [
       "<IPython.core.display.Javascript object>"
      ]
     },
     "metadata": {},
     "output_type": "display_data"
    },
    {
     "data": {
      "text/markdown": [
       "<span style=\"color:#33cc33\">Correct</span>"
      ],
      "text/plain": [
       "Correct"
      ]
     },
     "metadata": {},
     "output_type": "display_data"
    },
    {
     "data": {
      "image/png": "[encoded data removed]",
      "text/plain": [
       "<Figure size 432x288 with 1 Axes>"
      ]
     },
     "metadata": {
      "needs_background": "light"
     },
     "output_type": "display_data"
    }
   ],
   "source": [
    "# Scatter plot showing the relationship between 'sugarpercent' and 'winpercent'\n",
    "sns.scatterplot(x=candy_data['sugarpercent'], y=candy_data['winpercent']) # Your code here\n",
    "\n",
    "# Check your answer\n",
    "step_3.a.check()"
   ]
  },
  {
   "cell_type": "code",
   "execution_count": 9,
   "id": "6aace241",
   "metadata": {
    "execution": {
     "iopub.execute_input": "2022-07-09T12:37:56.700729Z",
     "iopub.status.busy": "2022-07-09T12:37:56.700333Z",
     "iopub.status.idle": "2022-07-09T12:37:56.704738Z",
     "shell.execute_reply": "2022-07-09T12:37:56.703520Z"
    },
    "papermill": {
     "duration": 0.020617,
     "end_time": "2022-07-09T12:37:56.707140",
     "exception": false,
     "start_time": "2022-07-09T12:37:56.686523",
     "status": "completed"
    },
    "tags": []
   },
   "outputs": [],
   "source": [
    "# Lines below will give you a hint or solution code\n",
    "#step_3.a.hint()\n",
    "#step_3.a.solution_plot()"
   ]
  },
  {
   "cell_type": "markdown",
   "id": "c6057c57",
   "metadata": {
    "papermill": {
     "duration": 0.011259,
     "end_time": "2022-07-09T12:37:56.730455",
     "exception": false,
     "start_time": "2022-07-09T12:37:56.719196",
     "status": "completed"
    },
    "tags": []
   },
   "source": [
    "#### Part B\n",
    "\n",
    "Does the scatter plot show a **strong** correlation between the two variables?  If so, are candies with more sugar relatively more or less popular with the survey respondents?"
   ]
  },
  {
   "cell_type": "code",
   "execution_count": 10,
   "id": "5c873c08",
   "metadata": {
    "execution": {
     "iopub.execute_input": "2022-07-09T12:37:56.756254Z",
     "iopub.status.busy": "2022-07-09T12:37:56.755843Z",
     "iopub.status.idle": "2022-07-09T12:37:56.760318Z",
     "shell.execute_reply": "2022-07-09T12:37:56.759341Z"
    },
    "papermill": {
     "duration": 0.020282,
     "end_time": "2022-07-09T12:37:56.762691",
     "exception": false,
     "start_time": "2022-07-09T12:37:56.742409",
     "status": "completed"
    },
    "tags": []
   },
   "outputs": [],
   "source": [
    "#step_3.b.hint()"
   ]
  },
  {
   "cell_type": "code",
   "execution_count": 11,
   "id": "b4fb3b41",
   "metadata": {
    "execution": {
     "iopub.execute_input": "2022-07-09T12:37:56.788095Z",
     "iopub.status.busy": "2022-07-09T12:37:56.787437Z",
     "iopub.status.idle": "2022-07-09T12:37:56.796448Z",
     "shell.execute_reply": "2022-07-09T12:37:56.795595Z"
    },
    "papermill": {
     "duration": 0.024025,
     "end_time": "2022-07-09T12:37:56.798519",
     "exception": false,
     "start_time": "2022-07-09T12:37:56.774494",
     "status": "completed"
    },
    "tags": []
   },
   "outputs": [
    {
     "data": {
      "application/javascript": [
       "parent.postMessage({\"jupyterEvent\": \"custom.exercise_interaction\", \"data\": {\"interactionType\": 3, \"questionType\": 4, \"questionId\": \"3.2_ThinkBlueScatter\", \"learnToolsVersion\": \"0.3.4\", \"valueTowardsCompletion\": 0.0, \"failureMessage\": \"\", \"exceptionClass\": \"\", \"trace\": \"\", \"outcomeType\": 4}}, \"*\")"
      ],
      "text/plain": [
       "<IPython.core.display.Javascript object>"
      ]
     },
     "metadata": {},
     "output_type": "display_data"
    },
    {
     "data": {
      "text/markdown": [
       "<span style=\"color:#33cc99\">Solution:</span> The scatter plot does not show a strong correlation between the two variables. Since there is no clear relationship between the two variables, this tells us that sugar content does not play a strong role in candy popularity."
      ],
      "text/plain": [
       "Solution: The scatter plot does not show a strong correlation between the two variables. Since there is no clear relationship between the two variables, this tells us that sugar content does not play a strong role in candy popularity."
      ]
     },
     "metadata": {},
     "output_type": "display_data"
    }
   ],
   "source": [
    "# Check your answer (Run this code cell to receive credit!)\n",
    "step_3.b.solution()"
   ]
  },
  {
   "cell_type": "markdown",
   "id": "f5ed179a",
   "metadata": {
    "papermill": {
     "duration": 0.012327,
     "end_time": "2022-07-09T12:37:56.823112",
     "exception": false,
     "start_time": "2022-07-09T12:37:56.810785",
     "status": "completed"
    },
    "tags": []
   },
   "source": [
    "## Step 4: Take a closer look\n",
    "\n",
    "#### Part A\n",
    "\n",
    "Create the same scatter plot you created in **Step 3**, but now with a regression line!"
   ]
  },
  {
   "cell_type": "code",
   "execution_count": 12,
   "id": "79a5a4ff",
   "metadata": {
    "execution": {
     "iopub.execute_input": "2022-07-09T12:37:56.849667Z",
     "iopub.status.busy": "2022-07-09T12:37:56.848557Z",
     "iopub.status.idle": "2022-07-09T12:37:57.120475Z",
     "shell.execute_reply": "2022-07-09T12:37:57.118287Z"
    },
    "papermill": {
     "duration": 0.287744,
     "end_time": "2022-07-09T12:37:57.122975",
     "exception": false,
     "start_time": "2022-07-09T12:37:56.835231",
     "status": "completed"
    },
    "tags": []
   },
   "outputs": [
    {
     "data": {
      "application/javascript": [
       "parent.postMessage({\"jupyterEvent\": \"custom.exercise_interaction\", \"data\": {\"outcomeType\": 1, \"valueTowardsCompletion\": 0.3333333333333333, \"interactionType\": 1, \"questionType\": 2, \"questionId\": \"4.1_PlotBlueReg\", \"learnToolsVersion\": \"0.3.4\", \"failureMessage\": \"\", \"exceptionClass\": \"\", \"trace\": \"\"}}, \"*\")"
      ],
      "text/plain": [
       "<IPython.core.display.Javascript object>"
      ]
     },
     "metadata": {},
     "output_type": "display_data"
    },
    {
     "data": {
      "text/markdown": [
       "<span style=\"color:#33cc33\">Correct</span>"
      ],
      "text/plain": [
       "Correct"
      ]
     },
     "metadata": {},
     "output_type": "display_data"
    },
    {
     "data": {
      "image/png": "[encoded data removed]",
      "text/plain": [
       "<Figure size 432x288 with 1 Axes>"
      ]
     },
     "metadata": {
      "needs_background": "light"
     },
     "output_type": "display_data"
    }
   ],
   "source": [
    "# Scatter plot w/ regression line showing the relationship between 'sugarpercent' and 'winpercent'\n",
    "sns.regplot(x=candy_data['sugarpercent'], y=candy_data['winpercent']) # Your code here\n",
    " # Your code here\n",
    "\n",
    "# Check your answer\n",
    "step_4.a.check()"
   ]
  },
  {
   "cell_type": "code",
   "execution_count": 13,
   "id": "ccb9444d",
   "metadata": {
    "execution": {
     "iopub.execute_input": "2022-07-09T12:37:57.151253Z",
     "iopub.status.busy": "2022-07-09T12:37:57.150538Z",
     "iopub.status.idle": "2022-07-09T12:37:57.155544Z",
     "shell.execute_reply": "2022-07-09T12:37:57.154458Z"
    },
    "papermill": {
     "duration": 0.021636,
     "end_time": "2022-07-09T12:37:57.157798",
     "exception": false,
     "start_time": "2022-07-09T12:37:57.136162",
     "status": "completed"
    },
    "tags": []
   },
   "outputs": [],
   "source": [
    "# Lines below will give you a hint or solution code\n",
    "#step_4.a.hint()\n",
    "#step_4.a.solution_plot()"
   ]
  },
  {
   "cell_type": "markdown",
   "id": "109ffdd0",
   "metadata": {
    "papermill": {
     "duration": 0.012406,
     "end_time": "2022-07-09T12:37:57.182777",
     "exception": false,
     "start_time": "2022-07-09T12:37:57.170371",
     "status": "completed"
    },
    "tags": []
   },
   "source": [
    "#### Part B\n",
    "\n",
    "According to the plot above, is there a **slight** correlation between `'winpercent'` and `'sugarpercent'`?  What does this tell you about the candy that people tend to prefer?"
   ]
  },
  {
   "cell_type": "code",
   "execution_count": 14,
   "id": "3f774a79",
   "metadata": {
    "execution": {
     "iopub.execute_input": "2022-07-09T12:37:57.210058Z",
     "iopub.status.busy": "2022-07-09T12:37:57.209232Z",
     "iopub.status.idle": "2022-07-09T12:37:57.214040Z",
     "shell.execute_reply": "2022-07-09T12:37:57.213246Z"
    },
    "papermill": {
     "duration": 0.021121,
     "end_time": "2022-07-09T12:37:57.216441",
     "exception": false,
     "start_time": "2022-07-09T12:37:57.195320",
     "status": "completed"
    },
    "tags": []
   },
   "outputs": [],
   "source": [
    "#step_4.b.hint()"
   ]
  },
  {
   "cell_type": "code",
   "execution_count": 15,
   "id": "c0d506c0",
   "metadata": {
    "execution": {
     "iopub.execute_input": "2022-07-09T12:37:57.243636Z",
     "iopub.status.busy": "2022-07-09T12:37:57.242600Z",
     "iopub.status.idle": "2022-07-09T12:37:57.252172Z",
     "shell.execute_reply": "2022-07-09T12:37:57.251289Z"
    },
    "papermill": {
     "duration": 0.025533,
     "end_time": "2022-07-09T12:37:57.254416",
     "exception": false,
     "start_time": "2022-07-09T12:37:57.228883",
     "status": "completed"
    },
    "tags": []
   },
   "outputs": [
    {
     "data": {
      "application/javascript": [
       "parent.postMessage({\"jupyterEvent\": \"custom.exercise_interaction\", \"data\": {\"interactionType\": 3, \"questionType\": 4, \"questionId\": \"4.2_ThinkBlueReg\", \"learnToolsVersion\": \"0.3.4\", \"valueTowardsCompletion\": 0.0, \"failureMessage\": \"\", \"exceptionClass\": \"\", \"trace\": \"\", \"outcomeType\": 4}}, \"*\")"
      ],
      "text/plain": [
       "<IPython.core.display.Javascript object>"
      ]
     },
     "metadata": {},
     "output_type": "display_data"
    },
    {
     "data": {
      "text/markdown": [
       "<span style=\"color:#33cc99\">Solution:</span> Since the regression line has a slightly positive slope, this tells us that there is a slightly positive correlation between `'winpercent'` and `'sugarpercent'`. Thus, people have a slight preference for candies containing relatively more sugar."
      ],
      "text/plain": [
       "Solution: Since the regression line has a slightly positive slope, this tells us that there is a slightly positive correlation between `'winpercent'` and `'sugarpercent'`. Thus, people have a slight preference for candies containing relatively more sugar."
      ]
     },
     "metadata": {},
     "output_type": "display_data"
    }
   ],
   "source": [
    "# Check your answer (Run this code cell to receive credit!)\n",
    "step_4.b.solution()"
   ]
  },
  {
   "cell_type": "markdown",
   "id": "42a00ff4",
   "metadata": {
    "papermill": {
     "duration": 0.012428,
     "end_time": "2022-07-09T12:37:57.279628",
     "exception": false,
     "start_time": "2022-07-09T12:37:57.267200",
     "status": "completed"
    },
    "tags": []
   },
   "source": [
    "## Step 5: Chocolate!\n",
    "\n",
    "In the code cell below, create a scatter plot to show the relationship between `'pricepercent'` (on the horizontal x-axis) and `'winpercent'` (on the vertical y-axis). Use the `'chocolate'` column to color-code the points.  _Don't add any regression lines just yet -- you'll do that in the next step!_"
   ]
  },
  {
   "cell_type": "code",
   "execution_count": 16,
   "id": "9fa77459",
   "metadata": {
    "execution": {
     "iopub.execute_input": "2022-07-09T12:37:57.307721Z",
     "iopub.status.busy": "2022-07-09T12:37:57.306654Z",
     "iopub.status.idle": "2022-07-09T12:37:57.570648Z",
     "shell.execute_reply": "2022-07-09T12:37:57.569780Z"
    },
    "papermill": {
     "duration": 0.280722,
     "end_time": "2022-07-09T12:37:57.573127",
     "exception": false,
     "start_time": "2022-07-09T12:37:57.292405",
     "status": "completed"
    },
    "tags": []
   },
   "outputs": [
    {
     "data": {
      "application/javascript": [
       "parent.postMessage({\"jupyterEvent\": \"custom.exercise_interaction\", \"data\": {\"outcomeType\": 1, \"valueTowardsCompletion\": 0.3333333333333333, \"interactionType\": 1, \"questionType\": 2, \"questionId\": \"5_ColorScatter\", \"learnToolsVersion\": \"0.3.4\", \"failureMessage\": \"\", \"exceptionClass\": \"\", \"trace\": \"\"}}, \"*\")"
      ],
      "text/plain": [
       "<IPython.core.display.Javascript object>"
      ]
     },
     "metadata": {},
     "output_type": "display_data"
    },
    {
     "data": {
      "text/markdown": [
       "<span style=\"color:#33cc33\">Correct</span>"
      ],
      "text/plain": [
       "Correct"
      ]
     },
     "metadata": {},
     "output_type": "display_data"
    },
    {
     "data": {
      "image/png": "[encoded data removed]",
      "text/plain": [
       "<Figure size 432x288 with 1 Axes>"
      ]
     },
     "metadata": {
      "needs_background": "light"
     },
     "output_type": "display_data"
    }
   ],
   "source": [
    "# Scatter plot showing the relationship between 'pricepercent', 'winpercent', and 'chocolate'\n",
    "sns.scatterplot(x=candy_data['sugarpercent'], y=candy_data['winpercent'], hue=candy_data['chocolate']) # Your code here\n",
    " # Your code here\n",
    "\n",
    "# Check your answer\n",
    "step_5.check()"
   ]
  },
  {
   "cell_type": "code",
   "execution_count": 17,
   "id": "8dd7cc4b",
   "metadata": {
    "execution": {
     "iopub.execute_input": "2022-07-09T12:37:57.602962Z",
     "iopub.status.busy": "2022-07-09T12:37:57.602181Z",
     "iopub.status.idle": "2022-07-09T12:37:57.606828Z",
     "shell.execute_reply": "2022-07-09T12:37:57.606053Z"
    },
    "papermill": {
     "duration": 0.022223,
     "end_time": "2022-07-09T12:37:57.609110",
     "exception": false,
     "start_time": "2022-07-09T12:37:57.586887",
     "status": "completed"
    },
    "tags": []
   },
   "outputs": [],
   "source": [
    "# Lines below will give you a hint or solution code\n",
    "#step_5.hint()\n",
    "#step_5.solution_plot()"
   ]
  },
  {
   "cell_type": "markdown",
   "id": "01d6b6dc",
   "metadata": {
    "papermill": {
     "duration": 0.013102,
     "end_time": "2022-07-09T12:37:57.635659",
     "exception": false,
     "start_time": "2022-07-09T12:37:57.622557",
     "status": "completed"
    },
    "tags": []
   },
   "source": [
    "Can you see any interesting patterns in the scatter plot?  We'll investigate this plot further  by adding regression lines in the next step!\n",
    "\n",
    "## Step 6: Investigate chocolate\n",
    "\n",
    "#### Part A\n",
    "\n",
    "Create the same scatter plot you created in **Step 5**, but now with two regression lines, corresponding to (1) chocolate candies and (2) candies without chocolate."
   ]
  },
  {
   "cell_type": "code",
   "execution_count": 18,
   "id": "d22d52ec",
   "metadata": {
    "execution": {
     "iopub.execute_input": "2022-07-09T12:37:57.666443Z",
     "iopub.status.busy": "2022-07-09T12:37:57.664936Z",
     "iopub.status.idle": "2022-07-09T12:37:58.359954Z",
     "shell.execute_reply": "2022-07-09T12:37:58.355942Z"
    },
    "papermill": {
     "duration": 0.714555,
     "end_time": "2022-07-09T12:37:58.363714",
     "exception": false,
     "start_time": "2022-07-09T12:37:57.649159",
     "status": "completed"
    },
    "tags": []
   },
   "outputs": [
    {
     "data": {
      "application/javascript": [
       "parent.postMessage({\"jupyterEvent\": \"custom.exercise_interaction\", \"data\": {\"outcomeType\": 1, \"valueTowardsCompletion\": 0.3333333333333333, \"interactionType\": 1, \"questionType\": 2, \"questionId\": \"6.1_PlotColorReg\", \"learnToolsVersion\": \"0.3.4\", \"failureMessage\": \"\", \"exceptionClass\": \"\", \"trace\": \"\"}}, \"*\")"
      ],
      "text/plain": [
       "<IPython.core.display.Javascript object>"
      ]
     },
     "metadata": {},
     "output_type": "display_data"
    },
    {
     "data": {
      "text/markdown": [
       "<span style=\"color:#33cc33\">Correct</span>"
      ],
      "text/plain": [
       "Correct"
      ]
     },
     "metadata": {},
     "output_type": "display_data"
    },
    {
     "data": {
      "image/png": "[encoded data removed]",
      "text/plain": [
       "<Figure size 416.375x360 with 1 Axes>"
      ]
     },
     "metadata": {
      "needs_background": "light"
     },
     "output_type": "display_data"
    }
   ],
   "source": [
    "# Color-coded scatter plot w/ regression lines\n",
    "sns.lmplot(x=\"pricepercent\", y=\"winpercent\", hue=\"chocolate\", data=candy_data) # Your code here\n",
    "\n",
    "# Check your answer\n",
    "step_6.a.check()"
   ]
  },
  {
   "cell_type": "code",
   "execution_count": 19,
   "id": "33576125",
   "metadata": {
    "execution": {
     "iopub.execute_input": "2022-07-09T12:37:58.396757Z",
     "iopub.status.busy": "2022-07-09T12:37:58.396361Z",
     "iopub.status.idle": "2022-07-09T12:37:58.404350Z",
     "shell.execute_reply": "2022-07-09T12:37:58.403175Z"
    },
    "papermill": {
     "duration": 0.02649,
     "end_time": "2022-07-09T12:37:58.407260",
     "exception": false,
     "start_time": "2022-07-09T12:37:58.380770",
     "status": "completed"
    },
    "tags": []
   },
   "outputs": [],
   "source": [
    "# Lines below will give you a hint or solution code\n",
    "#step_6.a.hint()\n",
    "#step_6.a.solution_plot()"
   ]
  },
  {
   "cell_type": "markdown",
   "id": "e99689b2",
   "metadata": {
    "papermill": {
     "duration": 0.014072,
     "end_time": "2022-07-09T12:37:58.441442",
     "exception": false,
     "start_time": "2022-07-09T12:37:58.427370",
     "status": "completed"
    },
    "tags": []
   },
   "source": [
    "#### Part B\n",
    "\n",
    "Using the regression lines, what conclusions can you draw about the effects of chocolate and price on candy popularity?"
   ]
  },
  {
   "cell_type": "code",
   "execution_count": 20,
   "id": "dae601dc",
   "metadata": {
    "execution": {
     "iopub.execute_input": "2022-07-09T12:37:58.473652Z",
     "iopub.status.busy": "2022-07-09T12:37:58.472475Z",
     "iopub.status.idle": "2022-07-09T12:37:58.477833Z",
     "shell.execute_reply": "2022-07-09T12:37:58.476670Z"
    },
    "papermill": {
     "duration": 0.023774,
     "end_time": "2022-07-09T12:37:58.480251",
     "exception": false,
     "start_time": "2022-07-09T12:37:58.456477",
     "status": "completed"
    },
    "tags": []
   },
   "outputs": [],
   "source": [
    "#step_6.b.hint()"
   ]
  },
  {
   "cell_type": "code",
   "execution_count": 21,
   "id": "c7c8404c",
   "metadata": {
    "execution": {
     "iopub.execute_input": "2022-07-09T12:37:58.511154Z",
     "iopub.status.busy": "2022-07-09T12:37:58.510211Z",
     "iopub.status.idle": "2022-07-09T12:37:58.520106Z",
     "shell.execute_reply": "2022-07-09T12:37:58.519057Z"
    },
    "papermill": {
     "duration": 0.027998,
     "end_time": "2022-07-09T12:37:58.522376",
     "exception": false,
     "start_time": "2022-07-09T12:37:58.494378",
     "status": "completed"
    },
    "tags": []
   },
   "outputs": [
    {
     "data": {
      "application/javascript": [
       "parent.postMessage({\"jupyterEvent\": \"custom.exercise_interaction\", \"data\": {\"interactionType\": 3, \"questionType\": 4, \"questionId\": \"6.2_ThinkColorReg\", \"learnToolsVersion\": \"0.3.4\", \"valueTowardsCompletion\": 0.0, \"failureMessage\": \"\", \"exceptionClass\": \"\", \"trace\": \"\", \"outcomeType\": 4}}, \"*\")"
      ],
      "text/plain": [
       "<IPython.core.display.Javascript object>"
      ]
     },
     "metadata": {},
     "output_type": "display_data"
    },
    {
     "data": {
      "text/markdown": [
       "<span style=\"color:#33cc99\">Solution:</span> We'll begin with the regression line for chocolate candies. Since this line has a slightly positive slope, we can say that more expensive chocolate candies tend to be more popular (than relatively cheaper chocolate candies).  Likewise, since the regression line for candies without chocolate has a negative slope, we can say that if candies don't contain chocolate, they tend to be more popular when they are cheaper.  One important note, however, is that the dataset is quite small -- so we shouldn't invest too much trust in these patterns!  To inspire more confidence in the results, we should add more candies to the dataset."
      ],
      "text/plain": [
       "Solution: We'll begin with the regression line for chocolate candies. Since this line has a slightly positive slope, we can say that more expensive chocolate candies tend to be more popular (than relatively cheaper chocolate candies).  Likewise, since the regression line for candies without chocolate has a negative slope, we can say that if candies don't contain chocolate, they tend to be more popular when they are cheaper.  One important note, however, is that the dataset is quite small -- so we shouldn't invest too much trust in these patterns!  To inspire more confidence in the results, we should add more candies to the dataset."
      ]
     },
     "metadata": {},
     "output_type": "display_data"
    }
   ],
   "source": [
    "# Check your answer (Run this code cell to receive credit!)\n",
    "step_6.b.solution()"
   ]
  },
  {
   "cell_type": "markdown",
   "id": "63724724",
   "metadata": {
    "papermill": {
     "duration": 0.014404,
     "end_time": "2022-07-09T12:37:58.551627",
     "exception": false,
     "start_time": "2022-07-09T12:37:58.537223",
     "status": "completed"
    },
    "tags": []
   },
   "source": [
    "## Step 7: Everybody loves chocolate.\n",
    "\n",
    "#### Part A\n",
    "\n",
    "Create a categorical scatter plot to highlight the relationship between `'chocolate'` and `'winpercent'`.  Put `'chocolate'` on the (horizontal) x-axis, and `'winpercent'` on the (vertical) y-axis."
   ]
  },
  {
   "cell_type": "code",
   "execution_count": 22,
   "id": "2745e838",
   "metadata": {
    "execution": {
     "iopub.execute_input": "2022-07-09T12:37:58.583414Z",
     "iopub.status.busy": "2022-07-09T12:37:58.582163Z",
     "iopub.status.idle": "2022-07-09T12:37:58.780813Z",
     "shell.execute_reply": "2022-07-09T12:37:58.779517Z"
    },
    "papermill": {
     "duration": 0.217406,
     "end_time": "2022-07-09T12:37:58.783549",
     "exception": false,
     "start_time": "2022-07-09T12:37:58.566143",
     "status": "completed"
    },
    "tags": []
   },
   "outputs": [
    {
     "data": {
      "application/javascript": [
       "parent.postMessage({\"jupyterEvent\": \"custom.exercise_interaction\", \"data\": {\"outcomeType\": 1, \"valueTowardsCompletion\": 0.3333333333333333, \"interactionType\": 1, \"questionType\": 2, \"questionId\": \"7.1_PlotSwarm\", \"learnToolsVersion\": \"0.3.4\", \"failureMessage\": \"\", \"exceptionClass\": \"\", \"trace\": \"\"}}, \"*\")"
      ],
      "text/plain": [
       "<IPython.core.display.Javascript object>"
      ]
     },
     "metadata": {},
     "output_type": "display_data"
    },
    {
     "data": {
      "text/markdown": [
       "<span style=\"color:#33cc33\">Correct</span>"
      ],
      "text/plain": [
       "Correct"
      ]
     },
     "metadata": {},
     "output_type": "display_data"
    },
    {
     "data": {
      "image/png": "[encoded data removed]",
      "text/plain": [
       "<Figure size 432x288 with 1 Axes>"
      ]
     },
     "metadata": {
      "needs_background": "light"
     },
     "output_type": "display_data"
    }
   ],
   "source": [
    "# Scatter plot showing the relationship between 'chocolate' and 'winpercent'\n",
    "sns.swarmplot(x=\"chocolate\", y=\"winpercent\", data=candy_data) # Your code here\n",
    " # Your code here\n",
    "\n",
    "# Check your answer\n",
    "step_7.a.check()"
   ]
  },
  {
   "cell_type": "code",
   "execution_count": 23,
   "id": "6a664896",
   "metadata": {
    "execution": {
     "iopub.execute_input": "2022-07-09T12:37:58.816889Z",
     "iopub.status.busy": "2022-07-09T12:37:58.816493Z",
     "iopub.status.idle": "2022-07-09T12:37:58.820976Z",
     "shell.execute_reply": "2022-07-09T12:37:58.819803Z"
    },
    "papermill": {
     "duration": 0.024359,
     "end_time": "2022-07-09T12:37:58.823907",
     "exception": false,
     "start_time": "2022-07-09T12:37:58.799548",
     "status": "completed"
    },
    "tags": []
   },
   "outputs": [],
   "source": [
    "# Lines below will give you a hint or solution code\n",
    "#step_7.a.hint()\n",
    "#step_7.a.solution_plot()"
   ]
  },
  {
   "cell_type": "markdown",
   "id": "d7911bd7",
   "metadata": {
    "papermill": {
     "duration": 0.015109,
     "end_time": "2022-07-09T12:37:58.854417",
     "exception": false,
     "start_time": "2022-07-09T12:37:58.839308",
     "status": "completed"
    },
    "tags": []
   },
   "source": [
    "#### Part B\n",
    "\n",
    "You decide to dedicate a section of your report to the fact that chocolate candies tend to be more popular than candies without chocolate.  Which plot is more appropriate to tell this story: the plot from **Step 6**, or the plot from **Step 7**?"
   ]
  },
  {
   "cell_type": "code",
   "execution_count": 24,
   "id": "e04d20c1",
   "metadata": {
    "execution": {
     "iopub.execute_input": "2022-07-09T12:37:58.888223Z",
     "iopub.status.busy": "2022-07-09T12:37:58.887410Z",
     "iopub.status.idle": "2022-07-09T12:37:58.892185Z",
     "shell.execute_reply": "2022-07-09T12:37:58.891048Z"
    },
    "papermill": {
     "duration": 0.023272,
     "end_time": "2022-07-09T12:37:58.894518",
     "exception": false,
     "start_time": "2022-07-09T12:37:58.871246",
     "status": "completed"
    },
    "tags": []
   },
   "outputs": [],
   "source": [
    "#step_7.b.hint()"
   ]
  },
  {
   "cell_type": "code",
   "execution_count": 25,
   "id": "57fbf46a",
   "metadata": {
    "execution": {
     "iopub.execute_input": "2022-07-09T12:37:58.928351Z",
     "iopub.status.busy": "2022-07-09T12:37:58.927608Z",
     "iopub.status.idle": "2022-07-09T12:37:58.936747Z",
     "shell.execute_reply": "2022-07-09T12:37:58.935891Z"
    },
    "papermill": {
     "duration": 0.028604,
     "end_time": "2022-07-09T12:37:58.938915",
     "exception": false,
     "start_time": "2022-07-09T12:37:58.910311",
     "status": "completed"
    },
    "tags": []
   },
   "outputs": [
    {
     "data": {
      "application/javascript": [
       "parent.postMessage({\"jupyterEvent\": \"custom.exercise_interaction\", \"data\": {\"interactionType\": 3, \"questionType\": 4, \"questionId\": \"7.2_ThinkSwarm\", \"learnToolsVersion\": \"0.3.4\", \"valueTowardsCompletion\": 0.0, \"failureMessage\": \"\", \"exceptionClass\": \"\", \"trace\": \"\", \"outcomeType\": 4}}, \"*\")"
      ],
      "text/plain": [
       "<IPython.core.display.Javascript object>"
      ]
     },
     "metadata": {},
     "output_type": "display_data"
    },
    {
     "data": {
      "text/markdown": [
       "<span style=\"color:#33cc99\">Solution:</span> In this case, the categorical scatter plot from **Step 7** is the more appropriate plot. While both plots tell the desired story, the plot from **Step 6** conveys far more information that could distract from the main point."
      ],
      "text/plain": [
       "Solution: In this case, the categorical scatter plot from **Step 7** is the more appropriate plot. While both plots tell the desired story, the plot from **Step 6** conveys far more information that could distract from the main point."
      ]
     },
     "metadata": {},
     "output_type": "display_data"
    }
   ],
   "source": [
    "# Check your answer (Run this code cell to receive credit!)\n",
    "step_7.b.solution()"
   ]
  },
  {
   "cell_type": "markdown",
   "id": "adf308cf",
   "metadata": {
    "papermill": {
     "duration": 0.015941,
     "end_time": "2022-07-09T12:37:58.970843",
     "exception": false,
     "start_time": "2022-07-09T12:37:58.954902",
     "status": "completed"
    },
    "tags": []
   },
   "source": [
    "## Keep going\n",
    "\n",
    "Explore **[histograms and density plots](https://www.kaggle.com/alexisbcook/distributions)**."
   ]
  },
  {
   "cell_type": "markdown",
   "id": "3ce5a798",
   "metadata": {
    "papermill": {
     "duration": 0.014983,
     "end_time": "2022-07-09T12:37:59.001201",
     "exception": false,
     "start_time": "2022-07-09T12:37:58.986218",
     "status": "completed"
    },
    "tags": []
   },
   "source": [
    "---\n",
    "\n",
    "\n",
    "\n",
    "\n",
    "*Have questions or comments? Visit the [course discussion forum](https://www.kaggle.com/learn/data-visualization/discussion) to chat with other learners.*"
   ]
  }
 ],
 "metadata": {
  "kernelspec": {
   "display_name": "Python 3",
   "language": "python",
   "name": "python3"
  },
  "language_info": {
   "codemirror_mode": {
    "name": "ipython",
    "version": 3
   },
   "file_extension": ".py",
   "mimetype": "text/x-python",
   "name": "python",
   "nbconvert_exporter": "python",
   "pygments_lexer": "ipython3",
   "version": "3.7.12"
  },
  "papermill": {
   "default_parameters": {},
   "duration": 16.075792,
   "end_time": "2022-07-09T12:37:59.739319",
   "environment_variables": {},
   "exception": null,
   "input_path": "__notebook__.ipynb",
   "output_path": "__notebook__.ipynb",
   "parameters": {},
   "start_time": "2022-07-09T12:37:43.663527",
   "version": "2.3.4"
  }
 },
 "nbformat": 4,
 "nbformat_minor": 5
}
